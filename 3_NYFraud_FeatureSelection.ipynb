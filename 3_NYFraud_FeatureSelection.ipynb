{
 "cells": [
  {
   "cell_type": "code",
   "execution_count": 1,
   "id": "cordless-dietary",
   "metadata": {},
   "outputs": [],
   "source": [
    "# Load packages\n",
    "import numpy as np\n",
    "import pandas as pd"
   ]
  },
  {
   "cell_type": "code",
   "execution_count": 2,
   "id": "devoted-marble",
   "metadata": {},
   "outputs": [],
   "source": [
    "# Load data\n",
    "df = pd.read_csv(\"data/data_with_variables.csv\")"
   ]
  },
  {
   "cell_type": "markdown",
   "id": "collect-collins",
   "metadata": {},
   "source": [
    "### 1. Z-scaling before PCA"
   ]
  },
  {
   "cell_type": "code",
   "execution_count": 30,
   "id": "dutch-swaziland",
   "metadata": {},
   "outputs": [
    {
     "name": "stdout",
     "output_type": "stream",
     "text": [
      "(1046826, 45)\n",
      "(1046826, 81)\n"
     ]
    }
   ],
   "source": [
    "# z-scale the variables before PCA\n",
    "\n",
    "print(df.shape)\n",
    "print(property_data.shape)"
   ]
  },
  {
   "cell_type": "code",
   "execution_count": 31,
   "id": "current-carolina",
   "metadata": {},
   "outputs": [],
   "source": [
    "save_record = property_data[\"RECORD\"]"
   ]
  },
  {
   "cell_type": "code",
   "execution_count": 33,
   "id": "excited-electronics",
   "metadata": {},
   "outputs": [],
   "source": [
    "df = (df - df.mean()) / df.std()"
   ]
  },
  {
   "cell_type": "markdown",
   "id": "certified-serum",
   "metadata": {},
   "source": [
    "### 2. Principal Component Analysis (PCA)"
   ]
  },
  {
   "cell_type": "code",
   "execution_count": 35,
   "id": "gross-flesh",
   "metadata": {},
   "outputs": [
    {
     "data": {
      "text/plain": [
       "(0.0, 1.0)"
      ]
     },
     "execution_count": 35,
     "metadata": {},
     "output_type": "execute_result"
    },
    {
     "data": {
      "image/png": "[encoded data removed]",
      "text/plain": [
       "<Figure size 432x288 with 1 Axes>"
      ]
     },
     "metadata": {
      "needs_background": "light"
     },
     "output_type": "display_data"
    }
   ],
   "source": [
    "# PCA\n",
    "import matplotlib.pyplot as plt\n",
    "from sklearn.decomposition import PCA\n",
    "\n",
    "pca = PCA(n_components=0.99, svd_solver=\"full\")\n",
    "pca.fit(df)\n",
    "plt.plot(np.cumsum(pca.explained_variance_ratio_))\n",
    "plt.xlabel(\"Number of components\")\n",
    "plt.ylabel(\"Cumulative explained variance\")\n",
    "plt.yticks(np.arange(0.05, 1.1, step=0.1))\n",
    "plt.xticks(np.arange(0, 20, step=2))\n",
    "plt.axvline(x=6, linestyle=\"--\")\n",
    "plt.ylim(0, 1)"
   ]
  },
  {
   "cell_type": "code",
   "execution_count": 36,
   "id": "considerable-steam",
   "metadata": {},
   "outputs": [
    {
     "data": {
      "text/plain": [
       "(1046826, 6)"
      ]
     },
     "execution_count": 36,
     "metadata": {},
     "output_type": "execute_result"
    }
   ],
   "source": [
    "pca = PCA(n_components=6)\n",
    "princ_comps = pca.fit_transform(df)\n",
    "data_pca = pd.DataFrame(\n",
    "    princ_comps, columns=[\"PC\" + str(i) for i in range(1, pca.n_components_ + 1)]\n",
    ")\n",
    "data_pca.shape"
   ]
  },
  {
   "cell_type": "code",
   "execution_count": 37,
   "id": "completed-bunch",
   "metadata": {},
   "outputs": [
    {
     "data": {
      "text/html": [
       "<div>\n",
       "<style scoped>\n",
       "    .dataframe tbody tr th:only-of-type {\n",
       "        vertical-align: middle;\n",
       "    }\n",
       "\n",
       "    .dataframe tbody tr th {\n",
       "        vertical-align: top;\n",
       "    }\n",
       "\n",
       "    .dataframe thead th {\n",
       "        text-align: right;\n",
       "    }\n",
       "</style>\n",
       "<table border=\"1\" class=\"dataframe\">\n",
       "  <thead>\n",
       "    <tr style=\"text-align: right;\">\n",
       "      <th></th>\n",
       "      <th>PC1</th>\n",
       "      <th>PC2</th>\n",
       "      <th>PC3</th>\n",
       "      <th>PC4</th>\n",
       "      <th>PC5</th>\n",
       "      <th>PC6</th>\n",
       "    </tr>\n",
       "  </thead>\n",
       "  <tbody>\n",
       "    <tr>\n",
       "      <th>count</th>\n",
       "      <td>1.046826e+06</td>\n",
       "      <td>1.046826e+06</td>\n",
       "      <td>1.046826e+06</td>\n",
       "      <td>1.046826e+06</td>\n",
       "      <td>1.046826e+06</td>\n",
       "      <td>1.046826e+06</td>\n",
       "    </tr>\n",
       "    <tr>\n",
       "      <th>mean</th>\n",
       "      <td>-5.608723e-16</td>\n",
       "      <td>-5.835700e-16</td>\n",
       "      <td>-2.938348e-16</td>\n",
       "      <td>-1.569305e-15</td>\n",
       "      <td>-3.177353e-15</td>\n",
       "      <td>-4.464063e-16</td>\n",
       "    </tr>\n",
       "    <tr>\n",
       "      <th>std</th>\n",
       "      <td>1.000000e+00</td>\n",
       "      <td>1.000000e+00</td>\n",
       "      <td>1.000000e+00</td>\n",
       "      <td>1.000000e+00</td>\n",
       "      <td>1.000000e+00</td>\n",
       "      <td>1.000000e+00</td>\n",
       "    </tr>\n",
       "    <tr>\n",
       "      <th>min</th>\n",
       "      <td>-2.585169e-01</td>\n",
       "      <td>-2.280285e+02</td>\n",
       "      <td>-1.990058e+02</td>\n",
       "      <td>-2.023903e+02</td>\n",
       "      <td>-2.438864e+02</td>\n",
       "      <td>-2.002481e+02</td>\n",
       "    </tr>\n",
       "    <tr>\n",
       "      <th>25%</th>\n",
       "      <td>-1.088008e-01</td>\n",
       "      <td>-1.544611e-01</td>\n",
       "      <td>-1.356178e-01</td>\n",
       "      <td>-3.269411e-02</td>\n",
       "      <td>-1.159058e-01</td>\n",
       "      <td>-1.101849e-01</td>\n",
       "    </tr>\n",
       "    <tr>\n",
       "      <th>50%</th>\n",
       "      <td>-2.375699e-02</td>\n",
       "      <td>-5.919442e-02</td>\n",
       "      <td>6.964981e-04</td>\n",
       "      <td>1.366912e-02</td>\n",
       "      <td>-1.313774e-02</td>\n",
       "      <td>-2.535347e-02</td>\n",
       "    </tr>\n",
       "    <tr>\n",
       "      <th>75%</th>\n",
       "      <td>3.290240e-02</td>\n",
       "      <td>3.225958e-02</td>\n",
       "      <td>3.206016e-01</td>\n",
       "      <td>7.018405e-02</td>\n",
       "      <td>4.879424e-02</td>\n",
       "      <td>1.382286e-01</td>\n",
       "    </tr>\n",
       "    <tr>\n",
       "      <th>max</th>\n",
       "      <td>6.907817e+02</td>\n",
       "      <td>3.239819e+02</td>\n",
       "      <td>5.967327e+02</td>\n",
       "      <td>2.507935e+02</td>\n",
       "      <td>4.068851e+02</td>\n",
       "      <td>4.017187e+02</td>\n",
       "    </tr>\n",
       "  </tbody>\n",
       "</table>\n",
       "</div>"
      ],
      "text/plain": [
       "                PC1           PC2           PC3           PC4           PC5  \\\n",
       "count  1.046826e+06  1.046826e+06  1.046826e+06  1.046826e+06  1.046826e+06   \n",
       "mean  -5.608723e-16 -5.835700e-16 -2.938348e-16 -1.569305e-15 -3.177353e-15   \n",
       "std    1.000000e+00  1.000000e+00  1.000000e+00  1.000000e+00  1.000000e+00   \n",
       "min   -2.585169e-01 -2.280285e+02 -1.990058e+02 -2.023903e+02 -2.438864e+02   \n",
       "25%   -1.088008e-01 -1.544611e-01 -1.356178e-01 -3.269411e-02 -1.159058e-01   \n",
       "50%   -2.375699e-02 -5.919442e-02  6.964981e-04  1.366912e-02 -1.313774e-02   \n",
       "75%    3.290240e-02  3.225958e-02  3.206016e-01  7.018405e-02  4.879424e-02   \n",
       "max    6.907817e+02  3.239819e+02  5.967327e+02  2.507935e+02  4.068851e+02   \n",
       "\n",
       "                PC6  \n",
       "count  1.046826e+06  \n",
       "mean  -4.464063e-16  \n",
       "std    1.000000e+00  \n",
       "min   -2.002481e+02  \n",
       "25%   -1.101849e-01  \n",
       "50%   -2.535347e-02  \n",
       "75%    1.382286e-01  \n",
       "max    4.017187e+02  "
      ]
     },
     "execution_count": 37,
     "metadata": {},
     "output_type": "execute_result"
    }
   ],
   "source": [
    "# Z-scale PC's\n",
    "pca_mean = data_pca.mean()\n",
    "pca_sd = data_pca.std()\n",
    "data_pca = (data_pca - pca_mean) / pca_sd\n",
    "data_pca.describe()"
   ]
  },
  {
   "cell_type": "markdown",
   "id": "incorporate-undergraduate",
   "metadata": {},
   "source": [
    "### Fraud Score 1: Z-score outliers"
   ]
  },
  {
   "cell_type": "code",
   "execution_count": 38,
   "id": "distinct-prize",
   "metadata": {},
   "outputs": [],
   "source": [
    "# Model 1: Z-score outliers\n",
    "p = 2\n",
    "one_over_p = 1 / p\n",
    "score1 = (((data_pca).abs() ** p).sum(axis=1)) ** one_over_p"
   ]
  },
  {
   "cell_type": "markdown",
   "id": "front-natural",
   "metadata": {},
   "source": [
    "### Fraud Score 2: Autoencoder"
   ]
  },
  {
   "cell_type": "code",
   "execution_count": 39,
   "id": "referenced-preliminary",
   "metadata": {},
   "outputs": [
    {
     "name": "stdout",
     "output_type": "stream",
     "text": [
      "Epoch 1/3\n",
      "32714/32714 [==============================] - 51s 2ms/step - loss: 1.2598 - val_loss: 0.8969\n",
      "Epoch 2/3\n",
      "32714/32714 [==============================] - 52s 2ms/step - loss: 0.8414 - val_loss: 0.8963\n",
      "Epoch 3/3\n",
      "32714/32714 [==============================] - 52s 2ms/step - loss: 1.0858 - val_loss: 0.8956\n"
     ]
    }
   ],
   "source": [
    "# Model 2: Autoencoder\n",
    "\n",
    "from keras.layers import Dense, Input\n",
    "from keras.models import Model\n",
    "\n",
    "# placeholder for input\n",
    "data_in = Input(shape=(6,))\n",
    "\n",
    "# dimension of the encoded data. Choose 3\n",
    "encoded_dim = 3\n",
    "\n",
    "# encoded representation of the data\n",
    "encoded = Dense(encoded_dim, activation=\"tanh\")(data_in)\n",
    "\n",
    "# reconstruction of the input\n",
    "decoded = Dense(6, activation=\"tanh\")(encoded)\n",
    "\n",
    "# this model maps the input data to the reconstructed data\n",
    "autoencoder = Model(data_in, decoded)\n",
    "\n",
    "autoencoder.compile(optimizer=\"adam\", loss=\"mean_squared_error\")\n",
    "\n",
    "autoencoder.fit(\n",
    "    data_pca, data_pca, epochs=3, shuffle=True, validation_data=(data_pca, data_pca)\n",
    ")\n",
    "\n",
    "pca_out = autoencoder.predict(data_pca)\n",
    "error = pca_out - data_pca\n",
    "p = 2\n",
    "oop = 1 / p\n",
    "score2 = ((error.abs() ** p).sum(axis=1)) ** oop"
   ]
  },
  {
   "cell_type": "markdown",
   "id": "closed-direction",
   "metadata": {},
   "source": [
    "### Fraud Score 3: Average of Z-score and Autoencoder"
   ]
  },
  {
   "cell_type": "code",
   "execution_count": 40,
   "id": "satellite-dietary",
   "metadata": {},
   "outputs": [],
   "source": [
    "# Make the final score as the average ranking\n",
    "scores = pd.DataFrame(score1)\n",
    "scores.columns = [\"score1\"]\n",
    "scores[\"score2\"] = score2\n",
    "scores[\"score1 rank\"] = scores[\"score1\"].rank()\n",
    "scores[\"score2 rank\"] = scores[\"score2\"].rank()\n",
    "scores[\"final\"] = (scores[\"score1 rank\"] + scores[\"score2 rank\"]) / 2"
   ]
  },
  {
   "cell_type": "code",
   "execution_count": 41,
   "id": "remarkable-amateur",
   "metadata": {},
   "outputs": [],
   "source": [
    "scores[\"RECORD\"] = save_record\n",
    "scores.set_index(\"RECORD\", drop=True, inplace=True)"
   ]
  },
  {
   "cell_type": "code",
   "execution_count": 42,
   "id": "collectible-oracle",
   "metadata": {},
   "outputs": [
    {
     "data": {
      "text/html": [
       "<div>\n",
       "<style scoped>\n",
       "    .dataframe tbody tr th:only-of-type {\n",
       "        vertical-align: middle;\n",
       "    }\n",
       "\n",
       "    .dataframe tbody tr th {\n",
       "        vertical-align: top;\n",
       "    }\n",
       "\n",
       "    .dataframe thead th {\n",
       "        text-align: right;\n",
       "    }\n",
       "</style>\n",
       "<table border=\"1\" class=\"dataframe\">\n",
       "  <thead>\n",
       "    <tr style=\"text-align: right;\">\n",
       "      <th></th>\n",
       "      <th>score1</th>\n",
       "      <th>score2</th>\n",
       "      <th>score1 rank</th>\n",
       "      <th>score2 rank</th>\n",
       "      <th>final</th>\n",
       "    </tr>\n",
       "    <tr>\n",
       "      <th>RECORD</th>\n",
       "      <th></th>\n",
       "      <th></th>\n",
       "      <th></th>\n",
       "      <th></th>\n",
       "      <th></th>\n",
       "    </tr>\n",
       "  </thead>\n",
       "  <tbody>\n",
       "    <tr>\n",
       "      <th>917942</th>\n",
       "      <td>981.327266</td>\n",
       "      <td>981.478957</td>\n",
       "      <td>1046826.0</td>\n",
       "      <td>1046826.0</td>\n",
       "      <td>1046826.0</td>\n",
       "    </tr>\n",
       "    <tr>\n",
       "      <th>684704</th>\n",
       "      <td>457.056846</td>\n",
       "      <td>455.326197</td>\n",
       "      <td>1046825.0</td>\n",
       "      <td>1046825.0</td>\n",
       "      <td>1046825.0</td>\n",
       "    </tr>\n",
       "    <tr>\n",
       "      <th>1065870</th>\n",
       "      <td>448.085896</td>\n",
       "      <td>446.689437</td>\n",
       "      <td>1046824.0</td>\n",
       "      <td>1046824.0</td>\n",
       "      <td>1046824.0</td>\n",
       "    </tr>\n",
       "    <tr>\n",
       "      <th>1059883</th>\n",
       "      <td>407.134142</td>\n",
       "      <td>405.359270</td>\n",
       "      <td>1046823.0</td>\n",
       "      <td>1046823.0</td>\n",
       "      <td>1046823.0</td>\n",
       "    </tr>\n",
       "    <tr>\n",
       "      <th>151044</th>\n",
       "      <td>396.025115</td>\n",
       "      <td>395.099898</td>\n",
       "      <td>1046822.0</td>\n",
       "      <td>1046822.0</td>\n",
       "      <td>1046822.0</td>\n",
       "    </tr>\n",
       "    <tr>\n",
       "      <th>39770</th>\n",
       "      <td>385.999662</td>\n",
       "      <td>384.643837</td>\n",
       "      <td>1046821.0</td>\n",
       "      <td>1046821.0</td>\n",
       "      <td>1046821.0</td>\n",
       "    </tr>\n",
       "    <tr>\n",
       "      <th>116647</th>\n",
       "      <td>368.262823</td>\n",
       "      <td>366.678761</td>\n",
       "      <td>1046820.0</td>\n",
       "      <td>1046819.0</td>\n",
       "      <td>1046819.5</td>\n",
       "    </tr>\n",
       "    <tr>\n",
       "      <th>12076</th>\n",
       "      <td>368.169072</td>\n",
       "      <td>367.047976</td>\n",
       "      <td>1046819.0</td>\n",
       "      <td>1046820.0</td>\n",
       "      <td>1046819.5</td>\n",
       "    </tr>\n",
       "    <tr>\n",
       "      <th>33751</th>\n",
       "      <td>343.450662</td>\n",
       "      <td>342.241478</td>\n",
       "      <td>1046818.0</td>\n",
       "      <td>1046818.0</td>\n",
       "      <td>1046818.0</td>\n",
       "    </tr>\n",
       "    <tr>\n",
       "      <th>665158</th>\n",
       "      <td>326.610624</td>\n",
       "      <td>325.923588</td>\n",
       "      <td>1046817.0</td>\n",
       "      <td>1046817.0</td>\n",
       "      <td>1046817.0</td>\n",
       "    </tr>\n",
       "  </tbody>\n",
       "</table>\n",
       "</div>"
      ],
      "text/plain": [
       "             score1      score2  score1 rank  score2 rank      final\n",
       "RECORD                                                              \n",
       "917942   981.327266  981.478957    1046826.0    1046826.0  1046826.0\n",
       "684704   457.056846  455.326197    1046825.0    1046825.0  1046825.0\n",
       "1065870  448.085896  446.689437    1046824.0    1046824.0  1046824.0\n",
       "1059883  407.134142  405.359270    1046823.0    1046823.0  1046823.0\n",
       "151044   396.025115  395.099898    1046822.0    1046822.0  1046822.0\n",
       "39770    385.999662  384.643837    1046821.0    1046821.0  1046821.0\n",
       "116647   368.262823  366.678761    1046820.0    1046819.0  1046819.5\n",
       "12076    368.169072  367.047976    1046819.0    1046820.0  1046819.5\n",
       "33751    343.450662  342.241478    1046818.0    1046818.0  1046818.0\n",
       "665158   326.610624  325.923588    1046817.0    1046817.0  1046817.0"
      ]
     },
     "execution_count": 42,
     "metadata": {},
     "output_type": "execute_result"
    }
   ],
   "source": [
    "scores.sort_values(\"final\", ascending=False).head(10)"
   ]
  },
  {
   "cell_type": "code",
   "execution_count": 43,
   "id": "actual-inspection",
   "metadata": {},
   "outputs": [
    {
     "name": "stdout",
     "output_type": "stream",
     "text": [
      "<class 'pandas.core.frame.DataFrame'>\n",
      "RangeIndex: 1046826 entries, 0 to 1046825\n",
      "Data columns (total 32 columns):\n",
      " #   Column    Non-Null Count    Dtype  \n",
      "---  ------    --------------    -----  \n",
      " 0   RECORD    1046826 non-null  int64  \n",
      " 1   BBLE      1046826 non-null  object \n",
      " 2   B         1046826 non-null  int64  \n",
      " 3   BLOCK     1046826 non-null  int64  \n",
      " 4   LOT       1046826 non-null  int64  \n",
      " 5   EASEMENT  2967 non-null     object \n",
      " 6   OWNER     1015081 non-null  object \n",
      " 7   BLDGCL    1046826 non-null  object \n",
      " 8   TAXCLASS  1046826 non-null  object \n",
      " 9   LTFRONT   1046826 non-null  int64  \n",
      " 10  LTDEPTH   1046826 non-null  int64  \n",
      " 11  EXT       353372 non-null   object \n",
      " 12  STORIES   1002858 non-null  float64\n",
      " 13  FULLVAL   1046826 non-null  float64\n",
      " 14  AVLAND    1046826 non-null  float64\n",
      " 15  AVTOT     1046826 non-null  float64\n",
      " 16  EXLAND    1046826 non-null  float64\n",
      " 17  EXTOT     1046826 non-null  float64\n",
      " 18  EXCD1     625308 non-null   float64\n",
      " 19  STADDR    1046357 non-null  object \n",
      " 20  ZIP       1025054 non-null  float64\n",
      " 21  EXMPTCL   10681 non-null    object \n",
      " 22  BLDFRONT  1046826 non-null  int64  \n",
      " 23  BLDDEPTH  1046826 non-null  int64  \n",
      " 24  AVLAND2   267417 non-null   float64\n",
      " 25  AVTOT2    267423 non-null   float64\n",
      " 26  EXLAND2   82371 non-null    float64\n",
      " 27  EXTOT2    119371 non-null   float64\n",
      " 28  EXCD2     92912 non-null    float64\n",
      " 29  PERIOD    1046826 non-null  object \n",
      " 30  YEAR      1046826 non-null  object \n",
      " 31  VALTYPE   1046826 non-null  object \n",
      "dtypes: float64(13), int64(8), object(11)\n",
      "memory usage: 255.6+ MB\n"
     ]
    }
   ],
   "source": [
    "data_orig = data_removed.iloc[:, :32]\n",
    "data_orig.info()"
   ]
  },
  {
   "cell_type": "code",
   "execution_count": 44,
   "id": "worse-blade",
   "metadata": {},
   "outputs": [],
   "source": [
    "NY_data_with_scores = data_orig.join(\n",
    "    scores[[\"score1 rank\", \"score2 rank\", \"final\"]], on=\"RECORD\"\n",
    ")\n",
    "NY_data_with_scores.set_index(\"RECORD\", inplace=True)"
   ]
  },
  {
   "cell_type": "code",
   "execution_count": 45,
   "id": "religious-cleaners",
   "metadata": {},
   "outputs": [],
   "source": [
    "top_records = NY_data_with_scores.sort_values(\"final\", ascending=False).head(100)\n",
    "top_records.to_csv(\"top_records.csv\")"
   ]
  },
  {
   "cell_type": "code",
   "execution_count": 46,
   "id": "shared-maryland",
   "metadata": {},
   "outputs": [
    {
     "data": {
      "text/plain": [
       "(0.1, 2088582.7348885664)"
      ]
     },
     "execution_count": 46,
     "metadata": {},
     "output_type": "execute_result"
    },
    {
     "data": {
      "image/png": "[encoded data removed]",
      "text/plain": [
       "<Figure size 432x288 with 1 Axes>"
      ]
     },
     "metadata": {
      "needs_background": "light"
     },
     "output_type": "display_data"
    }
   ],
   "source": [
    "# Distribution of Score 1\n",
    "plt.hist(score1, bins=100, range=(0, 1000))\n",
    "plt.yscale(\"log\")\n",
    "plt.ylim(ymin=0.1)"
   ]
  },
  {
   "cell_type": "code",
   "execution_count": 47,
   "id": "framed-rally",
   "metadata": {},
   "outputs": [
    {
     "data": {
      "text/plain": [
       "(0.1, 2090075.5691957558)"
      ]
     },
     "execution_count": 47,
     "metadata": {},
     "output_type": "execute_result"
    },
    {
     "data": {
      "image/png": "[encoded data removed]",
      "text/plain": [
       "<Figure size 432x288 with 1 Axes>"
      ]
     },
     "metadata": {
      "needs_background": "light"
     },
     "output_type": "display_data"
    }
   ],
   "source": [
    "# Distribution of Score 2\n",
    "plt.hist(score2, bins=100, range=(0, 1000))\n",
    "plt.yscale(\"log\")\n",
    "plt.ylim(ymin=0.1)"
   ]
  },
  {
   "cell_type": "code",
   "execution_count": 48,
   "id": "organizational-siemens",
   "metadata": {},
   "outputs": [
    {
     "data": {
      "text/plain": [
       "<seaborn.axisgrid.FacetGrid at 0x7f3bc8710d00>"
      ]
     },
     "execution_count": 48,
     "metadata": {},
     "output_type": "execute_result"
    },
    {
     "data": {
      "image/png": "[encoded data removed]",
      "text/plain": [
       "<Figure size 360x360 with 1 Axes>"
      ]
     },
     "metadata": {
      "needs_background": "light"
     },
     "output_type": "display_data"
    }
   ],
   "source": [
    "# Distribution of Final score\n",
    "import seaborn as sns\n",
    "sns.displot(scores[\"final\"])"
   ]
  }
 ],
 "metadata": {
  "kernelspec": {
   "display_name": "Python 3",
   "language": "python",
   "name": "python3"
  },
  "language_info": {
   "codemirror_mode": {
    "name": "ipython",
    "version": 3
   },
   "file_extension": ".py",
   "mimetype": "text/x-python",
   "name": "python",
   "nbconvert_exporter": "python",
   "pygments_lexer": "ipython3",
   "version": "3.8.5"
  }
 },
 "nbformat": 4,
 "nbformat_minor": 5
}
